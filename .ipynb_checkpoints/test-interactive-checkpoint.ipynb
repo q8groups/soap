{
 "metadata": {
  "name": "",
  "signature": "sha256:fbeb56ea3807a59c41eeaa75e282708f4abf792f661411b22f1180e6ecd2e63d"
 },
 "nbformat": 3,
 "nbformat_minor": 0,
 "worksheets": [
  {
   "cells": [
    {
     "cell_type": "code",
     "collapsed": false,
     "input": [
      "from SoapProxy import models, utils"
     ],
     "language": "python",
     "metadata": {},
     "outputs": [],
     "prompt_number": 1
    },
    {
     "cell_type": "code",
     "collapsed": false,
     "input": [
      "obj = models.ProxyService.objects.all()[0]\n",
      "obj.soap()\n",
      "obj.methods\n",
      "print obj.methods"
     ],
     "language": "python",
     "metadata": {},
     "outputs": [
      {
       "output_type": "stream",
       "stream": "stdout",
       "text": [
        "None\n"
       ]
      }
     ],
     "prompt_number": 2
    },
    {
     "cell_type": "code",
     "collapsed": false,
     "input": [
      "from suds.plugin import MessagePlugin\n",
      "from suds.client import Client\n",
      "\n",
      "class LogPlugin(MessagePlugin):\n",
      "  def sending(self, context):\n",
      "    print(str(context.envelope))\n",
      "    print(\"\\n\\n\\n\\n\")\n",
      "  def received(self, context):\n",
      "    print(str(context.reply))\n",
      "    print(\"\\n\\n\\n\\n\")\n",
      "\n",
      "\n",
      "cli = Client(\"http://www.webservicex.net/stockquote.asmx?WSDL\",plugins=[LogPlugin()])\n",
      "res =  cli.service.GetQuote(symbol=\"ORC\")"
     ],
     "language": "python",
     "metadata": {},
     "outputs": [
      {
       "output_type": "stream",
       "stream": "stderr",
       "text": [
        "DEBUG:suds.client:sending to (http://www.webservicex.net/stockquote.asmx)\n",
        "message:\n",
        "<?xml version=\"1.0\" encoding=\"UTF-8\"?>\n",
        "<SOAP-ENV:Envelope xmlns:ns0=\"http://www.webserviceX.NET/\" xmlns:ns1=\"http://schemas.xmlsoap.org/soap/envelope/\" xmlns:xsi=\"http://www.w3.org/2001/XMLSchema-instance\" xmlns:SOAP-ENV=\"http://schemas.xmlsoap.org/soap/envelope/\">\n",
        "   <SOAP-ENV:Header/>\n",
        "   <ns1:Body>\n",
        "      <ns0:GetQuote>\n",
        "         <ns0:symbol>ORC</ns0:symbol>\n",
        "      </ns0:GetQuote>\n",
        "   </ns1:Body>\n",
        "</SOAP-ENV:Envelope>\n"
       ]
      },
      {
       "output_type": "stream",
       "stream": "stderr",
       "text": [
        "DEBUG:suds.client:headers = {'SOAPAction': '\"http://www.webserviceX.NET/GetQuote\"', 'Content-Type': 'text/xml; charset=utf-8'}\n"
       ]
      },
      {
       "output_type": "stream",
       "stream": "stderr",
       "text": [
        "DEBUG:suds.client:HTTP succeeded:\n",
        "<?xml version=\"1.0\" encoding=\"utf-8\"?><soap:Envelope xmlns:soap=\"http://schemas.xmlsoap.org/soap/envelope/\" xmlns:xsi=\"http://www.w3.org/2001/XMLSchema-instance\" xmlns:xsd=\"http://www.w3.org/2001/XMLSchema\"><soap:Body><GetQuoteResponse xmlns=\"http://www.webserviceX.NET/\"><GetQuoteResult>&lt;StockQuotes&gt;&lt;Stock&gt;&lt;Symbol&gt;ORC&lt;/Symbol&gt;&lt;Last&gt;13.01&lt;/Last&gt;&lt;Date&gt;1/15/2015&lt;/Date&gt;&lt;Time&gt;4:02pm&lt;/Time&gt;&lt;Change&gt;+0.17&lt;/Change&gt;&lt;Open&gt;12.90&lt;/Open&gt;&lt;High&gt;13.06&lt;/High&gt;&lt;Low&gt;12.85&lt;/Low&gt;&lt;Volume&gt;180440&lt;/Volume&gt;&lt;MktCap&gt;170.1M&lt;/MktCap&gt;&lt;PreviousClose&gt;12.84&lt;/PreviousClose&gt;&lt;PercentageChange&gt;+1.32%&lt;/PercentageChange&gt;&lt;AnnRange&gt;11.70 - 14.99&lt;/AnnRange&gt;&lt;Earns&gt;3.173&lt;/Earns&gt;&lt;P-E&gt;4.05&lt;/P-E&gt;&lt;Name&gt;Orchid Island Cap&lt;/Name&gt;&lt;/Stock&gt;&lt;/StockQuotes&gt;</GetQuoteResult></GetQuoteResponse></soap:Body></soap:Envelope>\n"
       ]
      },
      {
       "output_type": "stream",
       "stream": "stdout",
       "text": [
        "<?xml version=\"1.0\" encoding=\"UTF-8\"?><SOAP-ENV:Envelope xmlns:ns0=\"http://www.webserviceX.NET/\" xmlns:ns1=\"http://schemas.xmlsoap.org/soap/envelope/\" xmlns:xsi=\"http://www.w3.org/2001/XMLSchema-instance\" xmlns:SOAP-ENV=\"http://schemas.xmlsoap.org/soap/envelope/\"><SOAP-ENV:Header/><ns1:Body><ns0:GetQuote><ns0:symbol>ORC</ns0:symbol></ns0:GetQuote></ns1:Body></SOAP-ENV:Envelope>\n",
        "<?xml version=\"1.0\" encoding=\"utf-8\"?><soap:Envelope xmlns:soap=\"http://schemas.xmlsoap.org/soap/envelope/\" xmlns:xsi=\"http://www.w3.org/2001/XMLSchema-instance\" xmlns:xsd=\"http://www.w3.org/2001/XMLSchema\"><soap:Body><GetQuoteResponse xmlns=\"http://www.webserviceX.NET/\"><GetQuoteResult>&lt;StockQuotes&gt;&lt;Stock&gt;&lt;Symbol&gt;ORC&lt;/Symbol&gt;&lt;Last&gt;13.01&lt;/Last&gt;&lt;Date&gt;1/15/2015&lt;/Date&gt;&lt;Time&gt;4:02pm&lt;/Time&gt;&lt;Change&gt;+0.17&lt;/Change&gt;&lt;Open&gt;12.90&lt;/Open&gt;&lt;High&gt;13.06&lt;/High&gt;&lt;Low&gt;12.85&lt;/Low&gt;&lt;Volume&gt;180440&lt;/Volume&gt;&lt;MktCap&gt;170.1M&lt;/MktCap&gt;&lt;PreviousClose&gt;12.84&lt;/PreviousClose&gt;&lt;PercentageChange&gt;+1.32%&lt;/PercentageChange&gt;&lt;AnnRange&gt;11.70 - 14.99&lt;/AnnRange&gt;&lt;Earns&gt;3.173&lt;/Earns&gt;&lt;P-E&gt;4.05&lt;/P-E&gt;&lt;Name&gt;Orchid Island Cap&lt;/Name&gt;&lt;/Stock&gt;&lt;/StockQuotes&gt;</GetQuoteResult></GetQuoteResponse></soap:Body></soap:Envelope>"
       ]
      },
      {
       "output_type": "stream",
       "stream": "stdout",
       "text": [
        "\n"
       ]
      }
     ],
     "prompt_number": 34
    },
    {
     "cell_type": "code",
     "collapsed": false,
     "input": [
      "import xml.dom.minidom\n",
      "(cli.client.messages.viewitems())\n",
      "#mxml = xml.dom.minidom.parse(res)"
     ],
     "language": "python",
     "metadata": {},
     "outputs": [
      {
       "metadata": {},
       "output_type": "pyout",
       "prompt_number": 29,
       "text": [
        "dict_items([('rx', None), ('tx', None)])"
       ]
      }
     ],
     "prompt_number": 29
    },
    {
     "cell_type": "raw",
     "metadata": {},
     "source": [
      "forms[0]['inputs']['civilId']='282101700696'\n",
      "utils.call(client,name=forms[0]['name'],params=forms[0]['inputs'])"
     ]
    },
    {
     "cell_type": "code",
     "collapsed": false,
     "input": [
      "url = \"http://10.192.224.5:7006/DealerServices_SB/ProxyServices/DealerOnlinePaymentProxy?wsdl\"      "
     ],
     "language": "python",
     "metadata": {},
     "outputs": [],
     "prompt_number": 12
    },
    {
     "cell_type": "code",
     "collapsed": false,
     "input": [
      "from SoapProxy.utils import SoapClient\n",
      "client = SoapClient(wsdl=url)\n"
     ],
     "language": "python",
     "metadata": {},
     "outputs": [],
     "prompt_number": 13
    },
    {
     "cell_type": "code",
     "collapsed": false,
     "input": [
      "client.ToJson()"
     ],
     "language": "python",
     "metadata": {},
     "outputs": [
      {
       "metadata": {},
       "output_type": "pyout",
       "prompt_number": 14,
       "text": [
        "'[{\"inputs\": {\"msisdn\": null, \"amount\": null, \"paymentMethod\": null, \"customerId\": null, \"channel\": null, \"paymentRef\": null}, \"method\": \"DealerOnlinePaymentService\"}]'"
       ]
      }
     ],
     "prompt_number": 14
    },
    {
     "cell_type": "code",
     "collapsed": false,
     "input": [
      "out = client.GetMethods()"
     ],
     "language": "python",
     "metadata": {},
     "outputs": [],
     "prompt_number": 15
    },
    {
     "cell_type": "code",
     "collapsed": false,
     "input": [
      "out[0][\"inputs\"]"
     ],
     "language": "python",
     "metadata": {},
     "outputs": [
      {
       "metadata": {},
       "output_type": "pyout",
       "prompt_number": 16,
       "text": [
        "{amount: None,\n",
        " channel: None,\n",
        " customerId: None,\n",
        " msisdn: None,\n",
        " paymentMethod: None,\n",
        " paymentRef: None}"
       ]
      }
     ],
     "prompt_number": 16
    },
    {
     "cell_type": "code",
     "collapsed": false,
     "input": [
      "res = client.call(name='ReadVIP',params = {'msisdn': '96566361918'})"
     ],
     "language": "python",
     "metadata": {},
     "outputs": [],
     "prompt_number": 6
    },
    {
     "cell_type": "code",
     "collapsed": false,
     "input": [
      "print res"
     ],
     "language": "python",
     "metadata": {},
     "outputs": [
      {
       "output_type": "stream",
       "stream": "stdout",
       "text": [
        "False\n"
       ]
      }
     ],
     "prompt_number": 7
    },
    {
     "cell_type": "code",
     "collapsed": false,
     "input": [
      "client.client.service.ReadVIP(msisdn='965')"
     ],
     "language": "python",
     "metadata": {},
     "outputs": [
      {
       "metadata": {},
       "output_type": "pyout",
       "prompt_number": 11,
       "text": [
        "False"
       ]
      }
     ],
     "prompt_number": 11
    },
    {
     "cell_type": "code",
     "collapsed": false,
     "input": [
      "from django.shortcuts import redirect\n",
      "redirect('soapview', wsdlurl=\"hello\")"
     ],
     "language": "python",
     "metadata": {},
     "outputs": [
      {
       "metadata": {},
       "output_type": "pyout",
       "prompt_number": 2,
       "text": [
        "<django.http.response.HttpResponseRedirect at 0x107e2fdd0>"
       ]
      }
     ],
     "prompt_number": 2
    },
    {
     "cell_type": "code",
     "collapsed": false,
     "input": [
      "print redirect('soapview', wsdlurl=\"hello\")"
     ],
     "language": "python",
     "metadata": {},
     "outputs": [
      {
       "output_type": "stream",
       "stream": "stdout",
       "text": [
        "Content-Type: text/html; charset=utf-8\r\n",
        "Location: /soap/services/hello/\r\n",
        "\r\n",
        "\n"
       ]
      }
     ],
     "prompt_number": 3
    },
    {
     "cell_type": "code",
     "collapsed": false,
     "input": [
      "from django.core.urlresolvers import reverse\n",
      "reverse(\"soapresponse\")"
     ],
     "language": "python",
     "metadata": {},
     "outputs": [
      {
       "metadata": {},
       "output_type": "pyout",
       "prompt_number": 1,
       "text": [
        "'/soap/services/response/'"
       ]
      }
     ],
     "prompt_number": 1
    },
    {
     "cell_type": "code",
     "collapsed": false,
     "input": [],
     "language": "python",
     "metadata": {},
     "outputs": []
    }
   ],
   "metadata": {}
  }
 ]
}