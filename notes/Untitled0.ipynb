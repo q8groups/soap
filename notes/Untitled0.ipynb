{
 "metadata": {
  "name": "",
  "signature": "sha256:93cfe342cd0ad56e8cef211e963e6db36b1a9d8f17fa0c3be0f9753022db5b82"
 },
 "nbformat": 3,
 "nbformat_minor": 0,
 "worksheets": [
  {
   "cells": [
    {
     "cell_type": "code",
     "collapsed": false,
     "input": [
      "from suds.client import Client"
     ],
     "language": "python",
     "metadata": {},
     "outputs": [],
     "prompt_number": 5
    },
    {
     "cell_type": "code",
     "collapsed": false,
     "input": [
      "url = 'http://10.192.224.5:7006/CommonServices_SB/ProxyService/GetMSISDNProfileProxy?wsdl'\n",
      "client = Client(url)"
     ],
     "language": "python",
     "metadata": {},
     "outputs": [],
     "prompt_number": 9
    },
    {
     "cell_type": "code",
     "collapsed": false,
     "input": [
      "def GenerateMethods(client):\n",
      "    methodInputList = []\n",
      "    methodInputDict = {}\n",
      "\n",
      "\n",
      "    for method in client.wsdl.services[0].ports[0].methods.values():\n",
      "        methodInputDict[\"name\"]= str(method.name)\n",
      "        #methodInputDict[\"inputs\"]=[]\n",
      "        for part in method.soap.input.body.parts:\n",
      "            methodInputDict[\"inputs\"]={}\n",
      "            for k,v in client.factory.create(part.element[0]):\n",
      "                methodInputDict[\"inputs\"][k]=v\n",
      "                \n",
      "        #print '%s(%s)' % (method.name, ', '.join('%s' % (client.factory.create(part.element[0])) for part in method.soap.input.body.parts))\n",
      "        #print \"\\n\\n\\n\\n\"\n",
      "        methodInputList.append(methodInputDict)\n",
      "        methodInputDict = {}\n",
      "    return methodInputList\n",
      "    \n",
      "    \n",
      "\n",
      "methods =  GenerateMethods(client)  \n",
      "\n",
      "for method in methods:\n",
      "    print method['name'],method['inputs']\n",
      "    #print \"Method: %s , Input %s\"%(method[\"name\"],method[\"inputs\"])\n"
     ],
     "language": "python",
     "metadata": {},
     "outputs": [
      {
       "output_type": "stream",
       "stream": "stdout",
       "text": [
        "GetMSISDNProfile {MSISDN: None}\n"
       ]
      }
     ],
     "prompt_number": 10
    },
    {
     "cell_type": "code",
     "collapsed": false,
     "input": [
      "import sys\n",
      "import json\n",
      "print json.dumps(methods)\n",
      "tmp = methods[0]['inputs']\n",
      "tmp['MSISDN']='96565000570'\n",
      "methods[0]['inputs']  = tmp\n",
      "\n",
      "for method in methods:\n",
      "    try:\n",
      "        print getattr(client.service,method['name'])(**method['inputs'])\n",
      "    except:\n",
      "        e = sys.exc_info()[0]\n",
      "        print e\n"
     ],
     "language": "python",
     "metadata": {},
     "outputs": [
      {
       "output_type": "stream",
       "stream": "stderr",
       "text": [
        "ERROR:suds.client:<?xml version=\"1.0\" encoding=\"UTF-8\"?>\n",
        "<SOAP-ENV:Envelope xmlns:ns0=\"http://schemas.xmlsoap.org/soap/envelope/\" xmlns:ns1=\"http://osb.wataniya.com/GetMSISDNProfileWSDL/\" xmlns:xsi=\"http://www.w3.org/2001/XMLSchema-instance\" xmlns:SOAP-ENV=\"http://schemas.xmlsoap.org/soap/envelope/\">\n",
        "   <SOAP-ENV:Header/>\n",
        "   <ns0:Body>\n",
        "      <ns1:GetMSISDNProfile>\n",
        "         <MSISDN>96565000570</MSISDN>\n",
        "      </ns1:GetMSISDNProfile>\n",
        "   </ns0:Body>\n",
        "</SOAP-ENV:Envelope>\n"
       ]
      },
      {
       "output_type": "stream",
       "stream": "stdout",
       "text": [
        "[{\"inputs\": {\"MSISDN\": null}, \"name\": \"GetMSISDNProfile\"}]\n",
        "<class 'suds.WebFault'>\n"
       ]
      }
     ],
     "prompt_number": 8
    },
    {
     "cell_type": "code",
     "collapsed": false,
     "input": [
      "tmp = methods[1]['inputs']\n",
      "tmp['Year']='2014'\n",
      "tmp['Month']='9'\n",
      "methods[1]['inputs']  = tmp\n",
      "\n",
      "print methods[1]['inputs']\n",
      "\n",
      "getattr(client.service,methods[1]['name'])(**methods[1]['inputs'])"
     ],
     "language": "python",
     "metadata": {},
     "outputs": [
      {
       "output_type": "stream",
       "stream": "stdout",
       "text": [
        "{Year: '2014', Month: '9'}\n"
       ]
      },
      {
       "metadata": {},
       "output_type": "pyout",
       "prompt_number": 247,
       "text": []
      }
     ],
     "prompt_number": 247
    },
    {
     "cell_type": "code",
     "collapsed": false,
     "input": [
      "from SoapProxy import models"
     ],
     "language": "python",
     "metadata": {},
     "outputs": [
      {
       "ename": "ImportError",
       "evalue": "No module named SoapProxy",
       "output_type": "pyerr",
       "traceback": [
        "\u001b[0;31m---------------------------------------------------------------------------\u001b[0m\n\u001b[0;31mImportError\u001b[0m                               Traceback (most recent call last)",
        "\u001b[0;32m<ipython-input-4-d5a78648875d>\u001b[0m in \u001b[0;36m<module>\u001b[0;34m()\u001b[0m\n\u001b[0;32m----> 1\u001b[0;31m \u001b[0;32mfrom\u001b[0m \u001b[0mSoapProxy\u001b[0m \u001b[0;32mimport\u001b[0m \u001b[0mmodels\u001b[0m\u001b[0;34m\u001b[0m\u001b[0m\n\u001b[0m",
        "\u001b[0;31mImportError\u001b[0m: No module named SoapProxy"
       ]
      }
     ],
     "prompt_number": 4
    },
    {
     "cell_type": "code",
     "collapsed": false,
     "input": [],
     "language": "python",
     "metadata": {},
     "outputs": [],
     "prompt_number": 3
    },
    {
     "cell_type": "code",
     "collapsed": false,
     "input": [],
     "language": "python",
     "metadata": {},
     "outputs": []
    }
   ],
   "metadata": {}
  }
 ]
}