{
 "metadata": {
  "name": "",
  "signature": "sha256:2d2bbe30bc423a741412fd25375cf0b42f6fa7391cb1ca390c82c49dfb2e0cf6"
 },
 "nbformat": 3,
 "nbformat_minor": 0,
 "worksheets": [
  {
   "cells": [
    {
     "cell_type": "code",
     "collapsed": false,
     "input": [
      "from suds.client import Client"
     ],
     "language": "python",
     "metadata": {},
     "outputs": [],
     "prompt_number": 3
    },
    {
     "cell_type": "code",
     "collapsed": false,
     "input": [
      "url = 'http://www.webservicex.net/MortgageIndex.asmx?WSDL'\n",
      "client = Client(url)"
     ],
     "language": "python",
     "metadata": {},
     "outputs": [],
     "prompt_number": 158
    },
    {
     "cell_type": "code",
     "collapsed": false,
     "input": [
      "def GenerateMethods(client):\n",
      "    methodInputList = []\n",
      "    methodInputDict = {}\n",
      "\n",
      "\n",
      "    for method in client.wsdl.services[0].ports[0].methods.values():\n",
      "        methodInputDict[\"name\"]= method.name\n",
      "        methodInputDict[\"inputs\"]=[]\n",
      "        for part in method.soap.input.body.parts:\n",
      "            methodInputDict[\"inputs\"].append(client.factory.create(part.element[0]))\n",
      "        #print '%s(%s)' % (method.name, ', '.join('%s' % (client.factory.create(part.element[0])) for part in method.soap.input.body.parts))\n",
      "        #print \"\\n\\n\\n\\n\"\n",
      "        methodInputList.append(methodInputDict)\n",
      "        methodInputDict = {}\n",
      "    return methodInputList\n",
      "    \n",
      "    \n",
      "\n",
      "methods =  GenerateMethods(client)  \n",
      "\n",
      "for method in methods:\n",
      "    print \"Method: %s , Input %s\"%(method[\"name\"],method[\"inputs\"])\n"
     ],
     "language": "python",
     "metadata": {},
     "outputs": [
      {
       "output_type": "stream",
       "stream": "stdout",
       "text": [
        "Method: GetCurrentMortgageIndexMonthly , Input <empty>\n",
        "Method: GetMortgageIndexByMonth , Input (GetMortgageIndexByMonth){\n",
        "   Month = None\n",
        "   Year = None\n",
        " }\n",
        "Method: GetCurrentMortgageIndexByWeekly , Input <empty>\n",
        "Method: GetMortgageIndexByWeek , Input (GetMortgageIndexByWeek){\n",
        "   Day = None\n",
        "   Month = None\n",
        "   Year = None\n",
        " }\n"
       ]
      }
     ],
     "prompt_number": 159
    },
    {
     "cell_type": "code",
     "collapsed": false,
     "input": [
      "tmp = methodInputList[-1]\n",
      "for k,v in tmp['inputs'][-1]:\n",
      "    k=1\n",
      "print tmp"
     ],
     "language": "python",
     "metadata": {},
     "outputs": [
      {
       "output_type": "stream",
       "stream": "stdout",
       "text": [
        "{'inputs': [(LastExecution){\n",
        "   Symbol = None\n",
        "   NumberOfRecords = None\n",
        " }], 'name': LastExecution}\n"
       ]
      }
     ],
     "prompt_number": 141
    },
    {
     "cell_type": "code",
     "collapsed": false,
     "input": [],
     "language": "python",
     "metadata": {},
     "outputs": []
    }
   ],
   "metadata": {}
  }
 ]
}